{
 "cells": [
  {
   "cell_type": "code",
   "execution_count": 20,
   "metadata": {},
   "outputs": [],
   "source": [
    "from exif import Image\n",
    "from datetime import datetime"
   ]
  },
  {
   "cell_type": "code",
   "execution_count": 22,
   "metadata": {},
   "outputs": [],
   "source": [
    "\n",
    "def get_time(image):\n",
    "    with open(image, 'rb') as image_file:\n",
    "        img = Image(image_file)\n",
    "        time_str = img.get(\"datetime_original\")\n",
    "        time = datetime.strptime(time_str, '%Y:%m:%d %H:%M:%S')\n",
    "    return time\n"
   ]
  },
  {
   "cell_type": "code",
   "execution_count": 23,
   "metadata": {},
   "outputs": [
    {
     "name": "stdout",
     "output_type": "stream",
     "text": [
      "2023-05-08 15:30:56\n"
     ]
    }
   ],
   "source": [
    "print(get_time(\"imgs\\photo_0676.jpg\"))"
   ]
  },
  {
   "cell_type": "code",
   "execution_count": 24,
   "metadata": {},
   "outputs": [],
   "source": [
    "def get_time_difference(image_1, image_2):\n",
    "    time_1 = get_time(image_1)\n",
    "    time_2 = get_time(image_2)\n",
    "    time_difference = time_2 - time_1\n",
    "    return time_difference.seconds"
   ]
  },
  {
   "cell_type": "code",
   "execution_count": 25,
   "metadata": {},
   "outputs": [
    {
     "name": "stdout",
     "output_type": "stream",
     "text": [
      "6\n"
     ]
    }
   ],
   "source": [
    "print(get_time_difference('imgs/photo_1754.jpg', 'imgs/photo_1755.jpg'))"
   ]
  },
  {
   "cell_type": "code",
   "execution_count": 26,
   "metadata": {},
   "outputs": [],
   "source": [
    "from exif import Image\n",
    "from datetime import datetime\n",
    "import cv2\n",
    "import math"
   ]
  },
  {
   "cell_type": "code",
   "execution_count": 27,
   "metadata": {},
   "outputs": [],
   "source": [
    "def convert_to_cv(image_1, image_2):\n",
    "    image_1_cv = cv2.imread(image_1, 0)\n",
    "    image_2_cv = cv2.imread(image_2, 0)\n",
    "    return image_1_cv, image_2_cv"
   ]
  },
  {
   "cell_type": "code",
   "execution_count": 28,
   "metadata": {},
   "outputs": [],
   "source": [
    "def calculate_features(image_1, image_2, feature_number):\n",
    "    orb = cv2.ORB_create(nfeatures = feature_number)\n",
    "    keypoints_1, descriptors_1 = orb.detectAndCompute(image_1_cv, None)\n",
    "    keypoints_2, descriptors_2 = orb.detectAndCompute(image_2_cv, None)\n",
    "    return keypoints_1, keypoints_2, descriptors_1, descriptors_2"
   ]
  },
  {
   "cell_type": "code",
   "execution_count": 29,
   "metadata": {},
   "outputs": [],
   "source": [
    "def calculate_matches(descriptors_1, descriptors_2):\n",
    "    brute_force = cv2.BFMatcher(cv2.NORM_HAMMING, crossCheck=True)\n",
    "    matches = brute_force.match(descriptors_1, descriptors_2)\n",
    "    matches = sorted(matches, key=lambda x: x.distance)\n",
    "    return matches"
   ]
  },
  {
   "cell_type": "code",
   "execution_count": 40,
   "metadata": {},
   "outputs": [],
   "source": [
    "def display_matches(image_1_cv, keypoints_1, image_2_cv, keypoints_2, matches):\n",
    "    match_img = cv2.drawMatches(image_1_cv, keypoints_1, image_2_cv, keypoints_2, matches[:100], None)\n",
    "    resize = cv2.resize(match_img, (1600,600), interpolation = cv2.INTER_AREA)\n",
    "    cv2.imshow('matches', resize)\n",
    "    #@ zavrit okno klavesou \"0\"\n",
    "    cv2.waitKey(0)\n",
    "    cv2.destroyWindow('matches')"
   ]
  },
  {
   "cell_type": "code",
   "execution_count": 31,
   "metadata": {},
   "outputs": [],
   "source": [
    "#@ remove tqdm\n",
    "from tqdm import tqdm\n",
    "def find_matching_coordinates(keypoints_1, keypoints_2, matches):\n",
    "    coordinates_1 = []\n",
    "    coordinates_2 = []\n",
    "    for match in tqdm(matches):\n",
    "        image_1_idx = match.queryIdx\n",
    "        image_2_idx = match.trainIdx\n",
    "        (x1,y1) = keypoints_1[image_1_idx].pt\n",
    "        (x2,y2) = keypoints_2[image_2_idx].pt\n",
    "        coordinates_1.append((x1,y1))\n",
    "        coordinates_2.append((x2,y2))\n",
    "    return coordinates_1, coordinates_2"
   ]
  },
  {
   "cell_type": "code",
   "execution_count": 32,
   "metadata": {},
   "outputs": [],
   "source": [
    "def calculate_mean_distance(coordinates_1, coordinates_2):\n",
    "    all_distances = 0\n",
    "    merged_coordinates = list(zip(coordinates_1, coordinates_2))\n",
    "    for coordinate in merged_coordinates:\n",
    "        x_difference = coordinate[0][0] - coordinate[1][0]\n",
    "        y_difference = coordinate[0][1] - coordinate[1][1]"
   ]
  },
  {
   "cell_type": "code",
   "execution_count": 33,
   "metadata": {},
   "outputs": [],
   "source": [
    "def find_matching_coordinates(keypoints_1, keypoints_2, matches):\n",
    "    coordinates_1 = []\n",
    "    coordinates_2 = []\n",
    "    for match in matches:\n",
    "        image_1_idx = match.queryIdx\n",
    "        image_2_idx = match.trainIdx\n",
    "        (x1,y1) = keypoints_1[image_1_idx].pt\n",
    "        (x2,y2) = keypoints_2[image_2_idx].pt\n",
    "        coordinates_1.append((x1,y1))\n",
    "        coordinates_2.append((x2,y2))\n",
    "    return coordinates_1, coordinates_2"
   ]
  },
  {
   "cell_type": "code",
   "execution_count": 34,
   "metadata": {},
   "outputs": [],
   "source": [
    "def calculate_mean_distance(coordinates_1, coordinates_2):\n",
    "    all_distances = 0\n",
    "    merged_coordinates = list(zip(coordinates_1, coordinates_2))\n",
    "    for coordinate in merged_coordinates:\n",
    "        x_difference = coordinate[0][0] - coordinate[1][0]\n",
    "        y_difference = coordinate[0][1] - coordinate[1][1]\n",
    "        distance = math.hypot(x_difference, y_difference)\n",
    "        all_distances = all_distances + distance\n",
    "    return all_distances / len(merged_coordinates)"
   ]
  },
  {
   "cell_type": "code",
   "execution_count": 35,
   "metadata": {},
   "outputs": [],
   "source": [
    "def calculate_speed_in_kmps(feature_distance, GSD, time_difference):\n",
    "    distance = (feature_distance * GSD)/ 100000\n",
    "    speed = distance / time_difference\n",
    "    return speed"
   ]
  },
  {
   "cell_type": "code",
   "execution_count": 45,
   "metadata": {},
   "outputs": [],
   "source": [
    "image_1 = \"imgs/photo_0675.jpg\"\n",
    "image_2 = \"imgs\\photo_0676.jpg\""
   ]
  },
  {
   "cell_type": "code",
   "execution_count": 48,
   "metadata": {},
   "outputs": [
    {
     "name": "stdout",
     "output_type": "stream",
     "text": [
      "527.2870014085898\n",
      "8\n",
      "8.336407492269805\n"
     ]
    }
   ],
   "source": [
    "time_difference = get_time_difference(image_1, image_2) # Get time difference between images\n",
    "image_1_cv, image_2_cv = convert_to_cv(image_1, image_2) # Create OpenCV image objects\n",
    "keypoints_1, keypoints_2, descriptors_1, descriptors_2 = calculate_features(image_1_cv, image_2_cv, 1000) # Get keypoints and descriptors\n",
    "matches = calculate_matches(descriptors_1, descriptors_2) # Match descriptors\n",
    "display_matches(image_1_cv, keypoints_1, image_2_cv, keypoints_2, matches) # Display matches\n",
    "coordinates_1, coordinates_2 = find_matching_coordinates(keypoints_1, keypoints_2, matches)\n",
    "average_feature_distance = calculate_mean_distance(coordinates_1, coordinates_2)\n",
    "speed = calculate_speed_in_kmps(average_feature_distance, 12648, time_difference)\n",
    "print(average_feature_distance)\n",
    "print(time_difference)\n",
    "print(speed)"
   ]
  }
 ],
 "metadata": {
  "kernelspec": {
   "display_name": "Python 3",
   "language": "python",
   "name": "python3"
  },
  "language_info": {
   "codemirror_mode": {
    "name": "ipython",
    "version": 3
   },
   "file_extension": ".py",
   "mimetype": "text/x-python",
   "name": "python",
   "nbconvert_exporter": "python",
   "pygments_lexer": "ipython3",
   "version": "3.10.11"
  }
 },
 "nbformat": 4,
 "nbformat_minor": 2
}
