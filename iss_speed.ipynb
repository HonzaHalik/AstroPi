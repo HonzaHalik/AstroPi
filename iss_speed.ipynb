{
 "cells": [
  {
   "cell_type": "code",
   "execution_count": 1,
   "metadata": {},
   "outputs": [],
   "source": [
    "from exif import Image\n",
    "from datetime import datetime\n",
    "import cv2\n",
    "import math\n",
    "import numpy as np"
   ]
  },
  {
   "cell_type": "code",
   "execution_count": 2,
   "metadata": {},
   "outputs": [],
   "source": [
    "\n",
    "def get_time(image):\n",
    "    with open(image, 'rb') as image_file:\n",
    "        img = Image(image_file)\n",
    "        time_str = img.get(\"datetime_original\")\n",
    "        time = datetime.strptime(time_str, '%Y:%m:%d %H:%M:%S')\n",
    "    return time\n"
   ]
  },
  {
   "cell_type": "code",
   "execution_count": 3,
   "metadata": {},
   "outputs": [
    {
     "name": "stdout",
     "output_type": "stream",
     "text": [
      "2023-05-08 15:30:56\n"
     ]
    }
   ],
   "source": [
    "print(get_time(\"imgs\\photo_0676.jpg\"))"
   ]
  },
  {
   "cell_type": "code",
   "execution_count": 4,
   "metadata": {},
   "outputs": [],
   "source": [
    "def get_time_difference(image_1, image_2):\n",
    "    time_1 = get_time(image_1)\n",
    "    time_2 = get_time(image_2)\n",
    "    time_difference = time_2 - time_1\n",
    "    return time_difference.seconds"
   ]
  },
  {
   "cell_type": "code",
   "execution_count": 5,
   "metadata": {},
   "outputs": [
    {
     "name": "stdout",
     "output_type": "stream",
     "text": [
      "6\n"
     ]
    }
   ],
   "source": [
    "print(get_time_difference('imgs/photo_1754.jpg', 'imgs/photo_1755.jpg'))"
   ]
  },
  {
   "cell_type": "code",
   "execution_count": 6,
   "metadata": {},
   "outputs": [],
   "source": [
    "def convert_to_cv(image_1, image_2):\n",
    "    image_1_cv = cv2.imread(image_1, 0)\n",
    "    image_2_cv = cv2.imread(image_2, 0)\n",
    "    return image_1_cv, image_2_cv"
   ]
  },
  {
   "cell_type": "code",
   "execution_count": 7,
   "metadata": {},
   "outputs": [],
   "source": [
    "def calculate_features(image_1, image_2, feature_number):\n",
    "    orb = cv2.ORB_create(nfeatures = feature_number)\n",
    "    keypoints_1, descriptors_1 = orb.detectAndCompute(image_1_cv, None)\n",
    "    keypoints_2, descriptors_2 = orb.detectAndCompute(image_2_cv, None)\n",
    "    return keypoints_1, keypoints_2, descriptors_1, descriptors_2"
   ]
  },
  {
   "cell_type": "code",
   "execution_count": 8,
   "metadata": {},
   "outputs": [],
   "source": [
    "try:\n",
    "    keypoints_1, keypoints_2, descriptors_1, descriptors_2 = calculate_features(image_1_cv, image_2_cv, 1000)\n",
    "    #@ zjistime optimalni threshold\n",
    "    keypoint_volume = []\n",
    "    for threshold in range(1,255):\n",
    "        keypoints_1_filtered = []\n",
    "        #* abych zjistil jakej data threshold\n",
    "        #* proiteruju skrz keypointy, zjistim jejich svetlost   \n",
    "        for kp_1 in keypoints_1:\n",
    "            #zis kam svetlost pixelu na koordinacich stejnych jako jsou koordinace(pozice(pt)) keypointu\n",
    "            intensity_1 = image_1_cv[int(kp_1.pt[1]), int(kp_1.pt[0])]\n",
    "            #print(f\"svetlost kp_1: {intensity_1}\")\n",
    "            # ponecham jen ty keypointy, ktere jsou dost tmave a jejich descriptory\n",
    "            if intensity_1 < threshold: \n",
    "                keypoints_1_filtered.append(kp_1)\n",
    "        keypoints_1_filtered = tuple(keypoints_1_filtered)\n",
    "        #@ veci pro graf\n",
    "        keypoint_volume.append(len(keypoints_1_filtered))\n",
    "    #@ GRAF mnoztvi dost tmavych keypointu v zavislosti na thresholdu \n",
    "    from matplotlib import pyplot as plt\n",
    "    plt.title(\"pocet keypointu v zavislosti na tresholdu\")\n",
    "    plt.ylabel(\"pocet keypointu\")\n",
    "    plt.xlabel(\"threshold\")\n",
    "    # Specify the tick positions and labels for the x-axis\n",
    "\n",
    "    for interval in range(0,255,10):\n",
    "        plt.vlines(x=interval, ymin=0, ymax=keypoint_volume[interval], colors='red', linestyles='dashed', label=f'Interval {interval}')\n",
    "    plt.plot(range(len(keypoint_volume)), keypoint_volume)\n",
    "    plt.show()\n",
    "except NameError or ValueError:\n",
    "    pass"
   ]
  },
  {
   "cell_type": "code",
   "execution_count": 9,
   "metadata": {},
   "outputs": [],
   "source": [
    "\n",
    "#@ filtrovani features tak aby jsme ignorovali mraky(byli features)\n",
    "def filter_features(threshold, keypoints_1, keypoints_2, descriptors_1, descriptors_2):\n",
    "    #! BOHUZEL TO ZATIM VYPADA ZE JINE KEYPOINTY NEZ KRAJE MRAKU NEMAME :( ASI SE BUDEM MUSET SMIRIT S TOU MALOU NEPRESNOSTI CO Z TOHO PLYNE\n",
    "    \"\"\"\n",
    "    zjisti svetlost kazdeho keypointu, vyfiltruje keypointy ktere jsou moc svetle(pravdepodobne mraky)\n",
    "\n",
    "    args: \n",
    "    keypoints(tupple): output funkce calculate_features\n",
    "\n",
    "    returns:\n",
    "    filtered_features(tupple): features ktere by nemeli byt mraky, nejsou bile\n",
    "    \"\"\"\n",
    "    #*nejaka moje predstava postupu - rozhodne to neni jedina ani \"spravna\" cesta jak to vyresit ale vymyslel jsem to tak proc to sem nedat zejo\n",
    "    # definuju nejakej threshold svetlosti(0-255) - pokud to bude svetlajsi jak threshold, je to asi mrak\n",
    "    # muzu proiterovat nekolika temahle hodnotama a zjistit si kdy my to ignoruje vse a kdy to zas neignoruje nic\n",
    "    # pak vyberu tu hodnotu kdyb to zhruba ignoruje vsechny mraky ale porad zbyvaji jine features\n",
    "    \n",
    "    # zjistim x,y souradnice keypointu\n",
    "    # zjistim svetlost pixelu na obrazku na techto souradnicich\n",
    "    # pokud je svetlost mensi(min svetla) nez muj threshold, keypoint zaradim do tupplu fiktered_features\n",
    "    # opakuju pro vsechny keypoity\n",
    "    # return filtered_keypoints\n",
    "    filtered_keypoints_1 = []\n",
    "    filtered_keypoints_2 = []\n",
    "    filtered_descriptors_1 = []\n",
    "    filtered_descriptors_2 = []\n",
    "    filtered_indices = []\n",
    "    #* abych zjistil jakej data threshold\n",
    "    #* proiteruju skrz keypointy, zjistim jejich svetlost\n",
    "    for i in range(len(keypoints_1)):\n",
    "        kp_1 = keypoints_1[i]\n",
    "        kp_2 = keypoints_2[i]\n",
    "        #ziskam svetlost pixelu na koordinacich stejnych jako jsou koordinace(pozice(pt)) keypointu\n",
    "        intensity_1 = image_1_cv[int(kp_1.pt[1]), int(kp_1.pt[0])]\n",
    "        intensity_2 = image_2_cv[int(kp_2.pt[1]), int(kp_2.pt[0])]\n",
    "        # ponecham jen ty keypointy, ktere jsou dost tmave a jejich descriptory\n",
    "        if intensity_1 <= threshold and intensity_2 <= threshold:\n",
    "            # zjistim indexy tech co chci nechat\n",
    "            filtered_indices.append(i)\n",
    "    # dam do listu jen to co je dost tmavy\n",
    "    filtered_keypoints_1 = [keypoints_1[i] for i in filtered_indices]\n",
    "    filtered_keypoints_2 = [keypoints_2[i] for i in filtered_indices]\n",
    "    filtered_descriptors_1 = [descriptors_1[i] for i in filtered_indices]\n",
    "    filtered_descriptors_2 = [descriptors_2[i] for i in filtered_indices]\n",
    "\n",
    "    \n",
    "    return filtered_keypoints_1, filtered_keypoints_2, filtered_descriptors_1, filtered_descriptors_2"
   ]
  },
  {
   "cell_type": "code",
   "execution_count": 10,
   "metadata": {},
   "outputs": [],
   "source": [
    "def calculate_matches(descriptors_1, descriptors_2):\n",
    "        # Convert descriptors to NumPy arrays\n",
    "    descriptors_1 = np.array(descriptors_1, dtype=np.uint8)\n",
    "    descriptors_2 = np.array(descriptors_2, dtype=np.uint8)\n",
    "\n",
    "    brute_force = cv2.BFMatcher(cv2.NORM_HAMMING, crossCheck=True)\n",
    "    matches = brute_force.match(descriptors_1, descriptors_2)\n",
    "    matches = sorted(matches, key=lambda x: x.distance)\n",
    "    return matches"
   ]
  },
  {
   "cell_type": "code",
   "execution_count": 11,
   "metadata": {},
   "outputs": [],
   "source": [
    "def display_matches(image_1_cv, keypoints_1, image_2_cv, keypoints_2, matches):\n",
    "    match_img = cv2.drawMatches(image_1_cv, keypoints_1, image_2_cv, keypoints_2, matches[:100], None)\n",
    "    resize = cv2.resize(match_img, (1600,600), interpolation = cv2.INTER_AREA)\n",
    "    #!! vsechno vykomentovany pryc vratit\n",
    "    cv2.imshow('matches', resize)\n",
    "    #@ zavrit okno klavesou \"0\"\n",
    "    cv2.waitKey(0)\n",
    "    cv2.destroyWindow('matches')"
   ]
  },
  {
   "cell_type": "code",
   "execution_count": 12,
   "metadata": {},
   "outputs": [],
   "source": [
    "#@ tqdm se musime zbavit pred odevzdanim\n",
    "from tqdm import tqdm\n",
    "def find_matching_coordinates(keypoints_1, keypoints_2, matches):\n",
    "    coordinates_1 = []\n",
    "    coordinates_2 = []\n",
    "    for match in tqdm(matches):\n",
    "        image_1_idx = match.queryIdx\n",
    "        image_2_idx = match.trainIdx\n",
    "        (x1,y1) = keypoints_1[image_1_idx].pt\n",
    "        (x2,y2) = keypoints_2[image_2_idx].pt\n",
    "        coordinates_1.append((x1,y1))\n",
    "        coordinates_2.append((x2,y2))\n",
    "    return coordinates_1, coordinates_2"
   ]
  },
  {
   "cell_type": "code",
   "execution_count": 13,
   "metadata": {},
   "outputs": [],
   "source": [
    "def calculate_mean_distance(coordinates_1, coordinates_2):\n",
    "    all_distances = 0\n",
    "    merged_coordinates = list(zip(coordinates_1, coordinates_2))\n",
    "    for coordinate in merged_coordinates:\n",
    "        x_difference = coordinate[0][0] - coordinate[1][0]\n",
    "        y_difference = coordinate[0][1] - coordinate[1][1]\n",
    "        distance = math.hypot(x_difference, y_difference)\n",
    "        all_distances = all_distances + distance\n",
    "    return all_distances / len(merged_coordinates)"
   ]
  },
  {
   "cell_type": "code",
   "execution_count": 14,
   "metadata": {},
   "outputs": [],
   "source": [
    "def calculate_distance_traveled(distance_on_earth):\n",
    "    \"\"\"\n",
    "    zohledni vliv zakrivevni zeme na vdalenost urazenou ISS oproti vzdalenosti na zemi\n",
    "\n",
    "    args:\n",
    "    distance_on_earth(float): vysledek funkce calculate_mean_distance\n",
    "\n",
    "    returns:\n",
    "    distance_traveled(float)\n",
    "    \"\"\"\n",
    "    # tady proste ta matika na spocitani jaka bude vzdalenost urazena ISS\n",
    "    # zname:\n",
    "    # vzdalenost kterou \"urazil\" bod na zemi,\n",
    "    # zhruba polomer \"drahy\" toho bodu\n",
    "    #zhruba polomer drahy ISS, polomer zeme + obehova vyska ISS\n",
    "    #\n",
    "    # o tomhle ví mnohem víc Denys\n",
    "    # ale jestli jsem to v patek dobre pochopil tak by tohle melo stacit\n",
    "    \n",
    "    \n",
    "    pass"
   ]
  },
  {
   "cell_type": "code",
   "execution_count": 15,
   "metadata": {},
   "outputs": [],
   "source": [
    "def calculate_speed_in_kmps(feature_distance, GSD, time_difference):\n",
    "    distance = (feature_distance * GSD)/ 100000\n",
    "    speed = distance / time_difference\n",
    "    return speed"
   ]
  },
  {
   "cell_type": "code",
   "execution_count": 16,
   "metadata": {},
   "outputs": [],
   "source": [
    "image_1 = \"imgs/photo_0676.jpg\"\n",
    "image_2 = \"imgs/photo_0677.jpg\""
   ]
  },
  {
   "cell_type": "code",
   "execution_count": 17,
   "metadata": {},
   "outputs": [
    {
     "name": "stderr",
     "output_type": "stream",
     "text": [
      "100%|██████████| 510/510 [00:00<?, ?it/s]"
     ]
    },
    {
     "name": "stdout",
     "output_type": "stream",
     "text": [
      "threshold: 255\n",
      "keypoints celkem: 918\n",
      "keypoints po filtru: 918\n",
      "prumerna vzdalenost features (km) - 514.2472423585169\n",
      "rozdil casu (s) - 9\n",
      "rychlost (km/s) - 7.226887912611692\n"
     ]
    },
    {
     "name": "stderr",
     "output_type": "stream",
     "text": [
      "\n"
     ]
    }
   ],
   "source": [
    "show_matches = False #@ pokud True tak se ukazou okna s tema carama co spojujou ty matching features\n",
    "time_difference = get_time_difference(image_1, image_2) # zjisti casovy rozdil\n",
    "image_1_cv, image_2_cv = convert_to_cv(image_1, image_2) # preformatovani obrazku na opencv objekty\n",
    "keypoints_1, keypoints_2, descriptors_1, descriptors_2 = calculate_features(image_1_cv, image_2_cv, 1000) # najde keypointy a descriptory\n",
    "keypoints_celkem = len(keypoints_1)\n",
    "#@ threshold\n",
    "threshold = 255 #cim vice keypointu tim presnejsi jsem zjistil takze tak\n",
    "keypoints_1, keypoints_2, descriptors_1, descriptors_2 = filter_features(threshold, keypoints_1,keypoints_2, descriptors_1, descriptors_2) #* filtered keypoints and descriptors\n",
    "matches = calculate_matches(descriptors_1, descriptors_2) # najde keypointy co jsou na obou obrazcich\n",
    "if show_matches: # pokud je potreba vdet keypointy\n",
    "    match_img = cv2.drawMatches(image_1_cv, keypoints_1, image_2_cv, keypoints_2, matches[:100], None) \n",
    "    resize = cv2.resize(match_img, (1600,600), interpolation = cv2.INTER_AREA)\n",
    "    cv2.imshow('pred_filtrem', resize)\n",
    "keypoints_po_filtru = len(keypoints_1)\n",
    "matches = calculate_matches(descriptors_1, descriptors_2) # najde kaypointy co jsou na opou obrazcich\n",
    "if show_matches: # zase pokud je potreba vydet keypointy\n",
    "    display_matches(image_1_cv, keypoints_1, image_2_cv, keypoints_2, matches) \n",
    "coordinates_1, coordinates_2 = find_matching_coordinates(keypoints_1, keypoints_2, matches)\n",
    "average_feature_distance = calculate_mean_distance(coordinates_1, coordinates_2)\n",
    "speed = calculate_speed_in_kmps(average_feature_distance, 12648, time_difference)\n",
    "print(f\"threshold: {threshold}\")\n",
    "print(f\"keypoints celkem: {keypoints_celkem}\")\n",
    "print(f\"keypoints po filtru: {keypoints_po_filtru}\")\n",
    "print(f\"prumerna vzdalenost features (km) - {average_feature_distance}\")\n",
    "print(f\"rozdil casu (s) - {time_difference}\")\n",
    "print(f\"rychlost (km/s) - {speed}\")"
   ]
  }
 ],
 "metadata": {
  "kernelspec": {
   "display_name": "Python 3",
   "language": "python",
   "name": "python3"
  },
  "language_info": {
   "codemirror_mode": {
    "name": "ipython",
    "version": 3
   },
   "file_extension": ".py",
   "mimetype": "text/x-python",
   "name": "python",
   "nbconvert_exporter": "python",
   "pygments_lexer": "ipython3",
   "version": "3.10.11"
  }
 },
 "nbformat": 4,
 "nbformat_minor": 2
}
